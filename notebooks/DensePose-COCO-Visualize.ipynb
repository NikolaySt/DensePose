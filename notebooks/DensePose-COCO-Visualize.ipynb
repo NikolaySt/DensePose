{
 "cells": [
  {
   "cell_type": "markdown",
   "metadata": {},
   "source": [
    "# Visualization of DensePose-COCO dataset\n",
    "\n",
    "In this notebook, we visualize the DensePose-COCO annotations on the images.\n",
    "\n",
    "The densepose COCO dataset annotations are provided within the coco annotation framework and can be handled directly using the pycocotools.\n",
    "\n",
    "<br>\n",
    "<div align=\"center\">\n",
    "  <img src=\"http://densepose.org/img/coords.png\" width=\"400px\" /><br>\n",
    "\n",
    "   _Visualization of the partitioning of the surface and demonstration of \"correspondence to a single point on a part\"._\n",
    "</div>\n",
    "\n",
    "\n",
    "### DensePose fields in annotations:\n",
    "#### Collected Masks\n",
    "* **'dp_masks' :**  RLE encoded dense masks. All part masks are of size 256x256 and maps to 14 labels. Please note that these are not linked to the 3D template. These are semantically meaningful parts collected from annotators, we use these to sample annotation points.\n",
    "\n",
    "#### Collected Points\n",
    "* **'dp_x'**, **'dp_y' :**  The spatial coordinates of collected points on the image. The coordinates are scaled such that the bounding box size is 256x256.\n",
    "* **'dp_I' :**  The patch index that indicates which of the 24 surface patches the point is on.\n",
    "* **'dp_U'**, **'dp_V' :**  Coordinates in the UV space. Each surface patch has a separate 2D parameterization.\n",
    "\n",
    "In the following, we reshape the collected masks and points \n"
   ]
  },
  {
   "cell_type": "code",
   "execution_count": null,
   "metadata": {},
   "outputs": [],
   "source": [
    "from pycocotools.coco import COCO\n",
    "import os\n",
    "import cv2\n",
    "import matplotlib.pyplot as plt\n",
    "import numpy as np\n",
    "import pycocotools.mask as mask_util\n",
    "from random import randint\n",
    "\n",
    "coco_folder = '../detectron/datasets/data/coco/'\n",
    "dp_coco = COCO( coco_folder + '/annotations/densepose_coco_2014_minival.json')\n",
    "\n",
    "#downlonad coco 2014 dataset - > http://cocodataset.org/#download\n",
    "#WinDensePose\\densepose\\detectron\\datasets\\data\\coco\\annotations"
   ]
  },
  {
   "cell_type": "markdown",
   "metadata": {},
   "source": [
    "Select a random image, read it and load the annotations that correspond to this image."
   ]
  },
  {
   "cell_type": "code",
   "execution_count": null,
   "metadata": {},
   "outputs": [],
   "source": [
    "# Get img id's for the minival dataset.\n",
    "im_ids = dp_coco.getImgIds()\n",
    "# Select a random image id.\n",
    "Selected_im = im_ids[randint(0, len(im_ids))] # Choose im no 57 to replicate \n",
    "# Load the image\n",
    "im = dp_coco.loadImgs(Selected_im)[0]  \n",
    "# Load Anns for the selected image.\n",
    "ann_ids = dp_coco.getAnnIds( imgIds=im['id'] )\n",
    "anns = dp_coco.loadAnns(ann_ids)\n",
    "# Now read and b\n",
    "im_name = os.path.join( coco_folder + 'val2014', im['file_name'] )\n",
    "print(im_name)\n",
    "I=cv2.imread(im_name)\n",
    "plt.imshow(I[:,:,::-1]); plt.axis('off'); plt.show()"
   ]
  },
  {
   "cell_type": "markdown",
   "metadata": {},
   "source": [
    "## Visualization of Collected Masks\n",
    "\n",
    "Let's visualize the collected masks on the image. \n",
    "\n",
    "These masks are used:\n",
    "* to sample points to collect dense correspondences.\n",
    "* as an auxillary loss in DensePose-RCNN.\n",
    "* to obtain dense FG/BG maps."
   ]
  },
  {
   "cell_type": "markdown",
   "metadata": {},
   "source": [
    "A function to get dense masks from the decoded masks.\n"
   ]
  },
  {
   "cell_type": "code",
   "execution_count": null,
   "metadata": {},
   "outputs": [],
   "source": [
    "def GetDensePoseMask(Polys):\n",
    "    MaskGen = np.zeros([256,256])\n",
    "    for i in range(1,15):\n",
    "        if(Polys[i-1]):\n",
    "            current_mask = mask_util.decode(Polys[i-1])\n",
    "            MaskGen[current_mask>0] = i\n",
    "    return MaskGen"
   ]
  },
  {
   "cell_type": "markdown",
   "metadata": {},
   "source": [
    "Go over all anns and visualize them one by one."
   ]
  },
  {
   "cell_type": "code",
   "execution_count": null,
   "metadata": {},
   "outputs": [],
   "source": [
    "I_vis=I.copy()/2 # Dim the image.\n",
    "\n",
    "for ann in anns:  \n",
    "    bbr =  np.array(ann['bbox']).astype(int) # the box.\n",
    "    if( 'dp_masks' in ann.keys()): # If we have densepose annotation for this ann, \n",
    "        Mask = GetDensePoseMask(ann['dp_masks'])\n",
    "        ################\n",
    "        x1,y1,x2,y2 = bbr[0],bbr[1],bbr[0]+bbr[2],bbr[1]+bbr[3]\n",
    "        x2 = min( [ x2,I.shape[1] ] );  y2 = min( [ y2,I.shape[0] ] )\n",
    "        ################ \n",
    "        MaskIm = cv2.resize( Mask, (int(x2-x1),int(y2-y1)) ,interpolation=cv2.INTER_NEAREST)\n",
    "        MaskBool = np.tile((MaskIm==0)[:,:,np.newaxis],[1,1,3])\n",
    "        #  Replace the visualized mask image with I_vis.\n",
    "        Mask_vis = cv2.applyColorMap( (MaskIm*15).astype(np.uint8) , cv2.COLORMAP_PARULA)[:,:,:]\n",
    "        Mask_vis[MaskBool]=I_vis[y1:y2,x1:x2,:][MaskBool]\n",
    "        I_vis[y1:y2,x1:x2,:] = I_vis[y1:y2,x1:x2,:]*0.3 + Mask_vis*0.7\n",
    "\n",
    "plt.imshow(I_vis[:,:,::-1]); plt.axis('off'); plt.show()"
   ]
  },
  {
   "cell_type": "markdown",
   "metadata": {},
   "source": [
    "## Visualization of Collected points\n",
    "\n",
    "Let's visualize the collected points on the image. \n",
    "\n",
    "For each collected point we have the surface patch index, and UV coordinates.\n",
    "\n",
    "The following snippet creates plots colored by I U and V coordinates respectively."
   ]
  },
  {
   "cell_type": "code",
   "execution_count": null,
   "metadata": {},
   "outputs": [],
   "source": [
    "# Show images for each subplot.\n",
    "fig = plt.figure(figsize=[15,5])\n",
    "plt.subplot(1,3,1)\n",
    "plt.imshow(I[:,:,::-1]/2);plt.axis('off');plt.title('Patch Indices')\n",
    "plt.subplot(1,3,2)\n",
    "plt.imshow(I[:,:,::-1]/2);plt.axis('off');plt.title('U coordinates')\n",
    "plt.subplot(1,3,3)\n",
    "plt.imshow(I[:,:,::-1]/2);plt.axis('off');plt.title('V coordinates')\n",
    "\n",
    "## For each ann, scatter plot the collected points.\n",
    "for ann in anns:\n",
    "    bbr =  np.round(ann['bbox']) \n",
    "    if( 'dp_masks' in ann.keys()):\n",
    "        Point_x = np.array(ann['dp_x'])/ 255. * bbr[2] # Strech the points to current box.\n",
    "        Point_y = np.array(ann['dp_y'])/ 255. * bbr[3] # Strech the points to current box.\n",
    "        #\n",
    "        Point_I = np.array(ann['dp_I'])\n",
    "        Point_U = np.array(ann['dp_U'])\n",
    "        Point_V = np.array(ann['dp_V'])\n",
    "        #\n",
    "        x1,y1,x2,y2 = bbr[0],bbr[1],bbr[0]+bbr[2],bbr[1]+bbr[3]\n",
    "        x2 = min( [ x2,I.shape[1] ] ); y2 = min( [ y2,I.shape[0] ] )\n",
    "        ###############\n",
    "        Point_x = Point_x + x1 ; Point_y = Point_y + y1\n",
    "        plt.subplot(1,3,1)\n",
    "        plt.scatter(Point_x,Point_y,22,Point_I)\n",
    "        plt.subplot(1,3,2)\n",
    "        plt.scatter(Point_x,Point_y,22,Point_U)\n",
    "        plt.subplot(1,3,3)\n",
    "        plt.scatter(Point_x,Point_y,22,Point_V)\n",
    "        \n",
    "plt.show()"
   ]
  }
 ],
 "metadata": {
  "kernelspec": {
   "display_name": "Python 3",
   "language": "python",
   "name": "python3"
  },
  "language_info": {
   "codemirror_mode": {
    "name": "ipython",
    "version": 3
   },
   "file_extension": ".py",
   "mimetype": "text/x-python",
   "name": "python",
   "nbconvert_exporter": "python",
   "pygments_lexer": "ipython3",
   "version": "3.6.8"
  }
 },
 "nbformat": 4,
 "nbformat_minor": 1
}
