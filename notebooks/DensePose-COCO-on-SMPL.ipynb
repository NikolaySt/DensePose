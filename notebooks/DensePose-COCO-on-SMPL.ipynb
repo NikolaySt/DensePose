{
 "cells": [
  {
   "cell_type": "markdown",
   "metadata": {},
   "source": [
    "# DensePose-COCO dataset and SMPL model\n",
    "\n",
    "This document demonstrates the localization of collected points on the SMPL model.\n"
   ]
  },
  {
   "cell_type": "markdown",
   "metadata": {},
   "source": [
    "\n",
    "### Download the SMPL model\n",
    "* Go to http://smpl.is.tue.mpg.de/downloads and sign up.\n",
    "\n",
    "* Download **SMPL for Python Users** and unzip.\n",
    "\n",
    "* Copy the file male template file \n",
    "<span style=\"color:#900C3F  \"> **'models/basicModel_f_lbs_10_207_0_v1.0.0.pkl'** </span> to the **DensePoseData/** folder.\n",
    "\n",
    "Now we can visualize the SMPL template model."
   ]
  },
  {
   "cell_type": "code",
   "execution_count": null,
   "metadata": {},
   "outputs": [],
   "source": [
    "import numpy as np\n",
    "import ctypes as ct\n",
    "import cv2\n",
    "import os"
   ]
  },
  {
   "cell_type": "code",
   "execution_count": null,
   "metadata": {},
   "outputs": [],
   "source": [
    "import matplotlib.pyplot as plt\n",
    "from mpl_toolkits.mplot3d import axes3d, Axes3D \n",
    "import numpy as np\n",
    "import pickle\n",
    "\n",
    "# Now read the smpl model.\n",
    "with open('../DensePoseData/basicmodel_m_lbs_10_207_0_v1.0.0.pkl', 'rb') as f:\n",
    "    data = pickle.load(f, encoding='latin1')\n",
    "    Vertices = data['v_template']  ##  Loaded vertices of size (6890, 3)\n",
    "    X,Y,Z = [Vertices[:,0], Vertices[:,1],Vertices[:,2]]"
   ]
  },
  {
   "cell_type": "markdown",
   "metadata": {},
   "source": [
    "Let us define some functions to visualize the SMPL model vertices as point clouds, showing the whole body and zooming into the face:"
   ]
  },
  {
   "cell_type": "code",
   "execution_count": null,
   "metadata": {},
   "outputs": [],
   "source": [
    "def smpl_view_set_axis_full_body(ax,azimuth=0):\n",
    "    ## Manually set axis \n",
    "    ax.view_init(0, azimuth)\n",
    "    max_range = 0.55\n",
    "    ax.set_xlim( - max_range,   max_range)\n",
    "    ax.set_ylim( - max_range,   max_range)\n",
    "    ax.set_zlim( -0.2 - max_range,   -0.2 + max_range)\n",
    "    ax.axis('off')\n",
    "    \n",
    "def smpl_view_set_axis_face(ax, azimuth=0):\n",
    "    ## Manually set axis \n",
    "    ax.view_init(0, azimuth)\n",
    "    max_range = 0.1\n",
    "    ax.set_xlim( - max_range,   max_range)\n",
    "    ax.set_ylim( - max_range,   max_range)\n",
    "    ax.set_zlim( 0.45 - max_range,   0.45 + max_range)\n",
    "    ax.axis('off')\n",
    "\n",
    "## Now let's rotate around the model and zoom into the face.\n",
    "\n",
    "fig = plt.figure(figsize=[16,4])\n",
    "\n",
    "ax = fig.add_subplot(141, projection='3d')\n",
    "ax.scatter(Z,X,Y,s=0.02,c='k')\n",
    "smpl_view_set_axis_full_body(ax)\n",
    "\n",
    "ax = fig.add_subplot(142, projection='3d')\n",
    "ax.scatter(Z,X,Y,s=0.02,c='k')\n",
    "smpl_view_set_axis_full_body(ax,45)\n",
    "\n",
    "ax = fig.add_subplot(143, projection='3d')\n",
    "ax.scatter(Z,X,Y,s=0.02,c='k')\n",
    "smpl_view_set_axis_full_body(ax,90)\n",
    "\n",
    "ax = fig.add_subplot(144, projection='3d')\n",
    "ax.scatter(Z,X,Y,s=0.2,c='k')\n",
    "smpl_view_set_axis_face(ax,-40)\n",
    "\n",
    "plt.show()"
   ]
  },
  {
   "cell_type": "markdown",
   "metadata": {},
   "source": [
    "For the sake of simplicity, we have a single densepose annotation **\"demo_dp_single_ann.pkl\"** for demonstration.\n",
    "\n",
    "Below, we load the ann and find cooresponding face index and barycentric coordinates, which allows us to localize the point on the 3D surface."
   ]
  },
  {
   "cell_type": "code",
   "execution_count": null,
   "metadata": {},
   "outputs": [],
   "source": [
    "import sys\n",
    "\n",
    "file_source = '../DensePoseData/demo_data/demo_dp_single_ann.pkl';\n",
    "file_dos = '../DensePoseData/demo_data/demo_dp_single_ann_dos.pkl';\n",
    "\n",
    "content = ''\n",
    "outsize = 0\n",
    "with open(file_source, 'rb') as infile:\n",
    "    content = infile.read()\n",
    "with open(file_dos, 'wb') as output:\n",
    "    for line in content.splitlines():\n",
    "        outsize += len(line)\n",
    "        output.write(line + str.encode(\"\\r\") + str.encode(\"\\n\"))\n",
    "\n",
    "print(\"Done. Saved %s bytes.\" % (len(content)-outsize))"
   ]
  },
  {
   "cell_type": "code",
   "execution_count": null,
   "metadata": {},
   "outputs": [],
   "source": [
    "import detectron.utils.densepose_methods as dp_utils\n",
    "\n",
    "DP = dp_utils.DensePoseMethods()\n",
    "pkl_file = open(file_dos, 'rb')\n",
    "Demo = pickle.load(pkl_file)\n",
    "\n",
    "collected_x = np.zeros(Demo['x'].shape)\n",
    "collected_y = np.zeros(Demo['x'].shape)\n",
    "collected_z = np.zeros(Demo['x'].shape)\n",
    "\n",
    "for i, (ii,uu,vv) in enumerate(zip(Demo['I'],Demo['U'],Demo['V'])):\n",
    "    # Convert IUV to FBC (faceIndex and barycentric coordinates.)\n",
    "    FaceIndex,bc1,bc2,bc3 = DP.IUV2FBC(ii,uu,vv)\n",
    "    # Use FBC to get 3D coordinates on the surface.\n",
    "    p = DP.FBC2PointOnSurface( FaceIndex, bc1,bc2,bc3,Vertices )\n",
    "    #\n",
    "    collected_x[i] = p[0]\n",
    "    collected_y[i] = p[1]\n",
    "    collected_z[i] = p[2]"
   ]
  },
  {
   "cell_type": "markdown",
   "metadata": {},
   "source": [
    "Lets visualize the collected points on the SMPL model:"
   ]
  },
  {
   "cell_type": "code",
   "execution_count": null,
   "metadata": {},
   "outputs": [],
   "source": [
    "fig = plt.figure(figsize=[15,5])\n",
    "\n",
    "# Visualize the image and collected points.\n",
    "ax = fig.add_subplot(131)\n",
    "ax.imshow(Demo['ICrop'])\n",
    "ax.scatter(Demo['x'],Demo['y'],11, np.arange(len(Demo['y']))  )\n",
    "plt.title('Points on the image')\n",
    "ax.axis('off'), \n",
    "\n",
    "## Visualize the full body smpl male template model and collected points\n",
    "ax = fig.add_subplot(132, projection='3d')\n",
    "ax.scatter(Z,X,Y,s=0.02,c='k')\n",
    "ax.scatter(collected_z,  collected_x,collected_y,s=25,  c=  np.arange(len(Demo['y']))    )\n",
    "smpl_view_set_axis_full_body(ax)\n",
    "plt.title('Points on the SMPL model')\n",
    "\n",
    "## Now zoom into the face.\n",
    "ax = fig.add_subplot(133, projection='3d')\n",
    "ax.scatter(Z,X,Y,s=0.2,c='k')\n",
    "ax.scatter(collected_z,  collected_x,collected_y,s=55,c=np.arange(len(Demo['y'])))\n",
    "smpl_view_set_axis_face(ax)\n",
    "plt.title('Points on the SMPL model')\n",
    "#\n",
    "plt.show()"
   ]
  },
  {
   "cell_type": "code",
   "execution_count": null,
   "metadata": {},
   "outputs": [],
   "source": []
  }
 ],
 "metadata": {
  "kernelspec": {
   "display_name": "Python 3",
   "language": "python",
   "name": "python3"
  },
  "language_info": {
   "codemirror_mode": {
    "name": "ipython",
    "version": 3
   },
   "file_extension": ".py",
   "mimetype": "text/x-python",
   "name": "python",
   "nbconvert_exporter": "python",
   "pygments_lexer": "ipython3",
   "version": "3.6.8"
  }
 },
 "nbformat": 4,
 "nbformat_minor": 1
}
